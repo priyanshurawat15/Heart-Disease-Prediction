{
 "cells": [
  {
   "cell_type": "code",
   "execution_count": null,
   "metadata": {},
   "outputs": [],
   "source": [
    "**AIM:** *To Apply Different ML methods to classify on this dataset, and combine multiple methods to get higher accuracy, approach known as ***Ensemble Machine Learning***\n"
   ]
  },
  {
   "cell_type": "code",
   "execution_count": null,
   "metadata": {},
   "outputs": [],
   "source": [
    "**Overview:**\n",
    "\n",
    "In this notebook an attempt is made at understanding features while *exploring and visualizing* the heart disease dataset. Basically I tried to show distribution of data, relations between variables and target as well as correlations between each other then did some basic model building.\n",
    "\n",
    "**Dataset Description:**\n",
    "\n",
    "The data includes 303 patient level features including if they have heart disease or not. Features are like;\n",
    "\n",
    "**Age:\n",
    "Sex:**\n",
    "0: Female\n",
    "1: Male\n",
    "**Chest Pain Type:**\n",
    "0: Typical Angina\n",
    "1: Atypical Angina\n",
    "2: Non-Anginal Pain\n",
    "3: Asymptomatic\n",
    "**Resting Blood Pressure:** Person's resting blood pressure.\n",
    "Cholesterol: Serum Cholesterol in mg/dl\n",
    "**Fasting Blood Sugar:**\n",
    "0:Less Than 120mg/ml\n",
    "1: Greater Than 120mg/ml\n",
    "**Resting Electrocardiographic Measurement:**\n",
    "0: Normal\n",
    "1: ST-T Wave Abnormality\n",
    "2: Left Ventricular Hypertrophy\n",
    "Max Heart Rate Achieved: Maximum Heart Rate Achieved\n",
    "**Exercise Induced Angina:**\n",
    "1: Yes\n",
    "0: No \n",
    "**etc**\n",
    "\n",
    "\n",
    "After some usual exploratory data analysis (EDA) I noticed some of the results doesn't make sense, and then I found this topic here. The ultimate guide to this dataset!, his points made sense so I decided to use this dataset after inspecting it: **Heart Disease Cleveland UCI.** from the official repository\n",
    "\n",
    "Okay, **let's START**"
   ]
  },
  {
   "cell_type": "code",
   "execution_count": null,
   "metadata": {},
   "outputs": [],
   "source": [
    "#1: Loading the Dataset"
   ]
  },
  {
   "cell_type": "code",
   "execution_count": null,
   "metadata": {},
   "outputs": [],
   "source": [
    "# Import all the packages\n",
    "import pandas as pd\n",
    "import numpy as np\n",
    "import matplotlib.pyplot as plt\n",
    "import seaborn as sns\n",
    "import plotly.express as px\n",
    "import matplotlib.gridspec as gridspec\n",
    "from matplotlib.ticker import MaxNLocator\n",
    "import math\n",
    "import random\n",
    "import os\n",
    "import time\n",
    "from numpy import interp\n",
    "\n",
    "# Disabling warnings:\n",
    "import warnings\n",
    "warnings.filterwarnings('ignore') "
   ]
  },
  {
   "cell_type": "code",
   "execution_count": null,
   "metadata": {},
   "outputs": [],
   "source": [
    "# Apply some Styles:\n",
    "\n",
    "cust_palt = [\n",
    "    '#111d5e', '#c70039', '#f37121', '#ffbd69', '#ffc93c'\n",
    "]\n",
    "plt.style.use('ggplot')"
   ]
  },
  {
   "cell_type": "code",
   "execution_count": null,
   "metadata": {},
   "outputs": [],
   "source": [
    "# Seeding:\n",
    "\n",
    "def seed_all(seed):\n",
    "    \n",
    "    ''' A function to seed everything for getting stable results and reproducibility'''\n",
    "    \n",
    "    random.seed(seed)\n",
    "    np.random.seed(seed)\n",
    "    os.environ['PYTHONHASHSEED'] = str(seed)\n",
    "\n",
    "seed = 42    \n",
    "seed_all(seed)\n",
    "\n",
    "x=144\n",
    "y=123"
   ]
  },
  {
   "cell_type": "code",
   "execution_count": null,
   "metadata": {},
   "outputs": [],
   "source": [
    "# Reading the csv file:\n",
    "from google.colab import files\n",
    "uploaded = files.upload()\n",
    "#train = pd.read_csv(\"heartDataset.csv\")"
   ]
  }
 ],
 "metadata": {
  "kernelspec": {
   "display_name": "Python 3",
   "language": "python",
   "name": "python3"
  },
  "language_info": {
   "name": "python",
   "version": "3.11.0 (main, Oct 24 2022, 18:26:48) [MSC v.1933 64 bit (AMD64)]"
  },
  "orig_nbformat": 4,
  "vscode": {
   "interpreter": {
    "hash": "c261aea317cc0286b3b3261fbba9abdec21eaa57589985bb7a274bf54d6cc0a7"
   }
  }
 },
 "nbformat": 4,
 "nbformat_minor": 2
}
